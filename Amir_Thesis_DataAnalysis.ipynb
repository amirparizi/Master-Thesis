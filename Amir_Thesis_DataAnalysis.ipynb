{
 "cells": [
  {
   "cell_type": "code",
   "execution_count": 1,
   "metadata": {},
   "outputs": [],
   "source": [
    "# VISUALIZATION "
   ]
  },
  {
   "cell_type": "code",
   "execution_count": 2,
   "metadata": {},
   "outputs": [
    {
     "data": {
      "text/html": [
       "<div>\n",
       "<style scoped>\n",
       "    .dataframe tbody tr th:only-of-type {\n",
       "        vertical-align: middle;\n",
       "    }\n",
       "\n",
       "    .dataframe tbody tr th {\n",
       "        vertical-align: top;\n",
       "    }\n",
       "\n",
       "    .dataframe thead th {\n",
       "        text-align: right;\n",
       "    }\n",
       "</style>\n",
       "<table border=\"1\" class=\"dataframe\">\n",
       "  <thead>\n",
       "    <tr style=\"text-align: right;\">\n",
       "      <th></th>\n",
       "      <th>Scientist Name</th>\n",
       "      <th>Name of the project</th>\n",
       "      <th>Sample ID</th>\n",
       "      <th>Date FTIR Analysis</th>\n",
       "      <th>Date of QA/QC</th>\n",
       "      <th>FTIR Analyst</th>\n",
       "      <th>QA -1</th>\n",
       "      <th>SMP?</th>\n",
       "      <th>FTIR final</th>\n",
       "      <th>Origin</th>\n",
       "      <th>Category</th>\n",
       "      <th>Group</th>\n",
       "      <th>Material</th>\n",
       "      <th>Location</th>\n",
       "      <th>Date</th>\n",
       "      <th>Shape</th>\n",
       "      <th>Colour</th>\n",
       "      <th>Height</th>\n",
       "      <th>Width</th>\n",
       "    </tr>\n",
       "  </thead>\n",
       "  <tbody>\n",
       "    <tr>\n",
       "      <th>0</th>\n",
       "      <td>Amir Parizi</td>\n",
       "      <td>Combined Sewer Overflow</td>\n",
       "      <td>20191012-01-200-01</td>\n",
       "      <td>2020-01-23</td>\n",
       "      <td>2020-03-23</td>\n",
       "      <td>AP</td>\n",
       "      <td>AP</td>\n",
       "      <td>NO</td>\n",
       "      <td>cellulosic</td>\n",
       "      <td>unknown</td>\n",
       "      <td>cellulosic</td>\n",
       "      <td>cellulosic</td>\n",
       "      <td>cellulosic</td>\n",
       "      <td>Angus CSO</td>\n",
       "      <td>12-Sep-19</td>\n",
       "      <td>Fiber</td>\n",
       "      <td>Pink</td>\n",
       "      <td>128</td>\n",
       "      <td>11</td>\n",
       "    </tr>\n",
       "    <tr>\n",
       "      <th>1</th>\n",
       "      <td>Amir Parizi</td>\n",
       "      <td>Combined Sewer Overflow</td>\n",
       "      <td>20191012-02-200-02</td>\n",
       "      <td>2020-01-25</td>\n",
       "      <td>2020-03-21</td>\n",
       "      <td>AP</td>\n",
       "      <td>AP</td>\n",
       "      <td>NO</td>\n",
       "      <td>cellulosic</td>\n",
       "      <td>unknown</td>\n",
       "      <td>cellulosic</td>\n",
       "      <td>cellulosic</td>\n",
       "      <td>cellulosic</td>\n",
       "      <td>Angus CSO</td>\n",
       "      <td>12-Sep-19</td>\n",
       "      <td>Fiber</td>\n",
       "      <td>Green</td>\n",
       "      <td>149</td>\n",
       "      <td>8</td>\n",
       "    </tr>\n",
       "    <tr>\n",
       "      <th>2</th>\n",
       "      <td>Amir Parizi</td>\n",
       "      <td>Combined Sewer Overflow</td>\n",
       "      <td>20191012-01-200-03</td>\n",
       "      <td>2020-05-02</td>\n",
       "      <td>2020-03-21</td>\n",
       "      <td>AP</td>\n",
       "      <td>AP</td>\n",
       "      <td>NO</td>\n",
       "      <td>cellulosic</td>\n",
       "      <td>unknown</td>\n",
       "      <td>cellulosic</td>\n",
       "      <td>cellulosic</td>\n",
       "      <td>cellulosic</td>\n",
       "      <td>Angus CSO</td>\n",
       "      <td>12-Sep-19</td>\n",
       "      <td>Fiber</td>\n",
       "      <td>Blue</td>\n",
       "      <td>5010</td>\n",
       "      <td>126</td>\n",
       "    </tr>\n",
       "    <tr>\n",
       "      <th>3</th>\n",
       "      <td>Amir Parizi</td>\n",
       "      <td>Combined Sewer Overflow</td>\n",
       "      <td>20191012-01-200-04</td>\n",
       "      <td>2020-02-02</td>\n",
       "      <td>2020-03-21</td>\n",
       "      <td>AP</td>\n",
       "      <td>AP</td>\n",
       "      <td>YES</td>\n",
       "      <td>Polypropylene</td>\n",
       "      <td>synthetic</td>\n",
       "      <td>plastic</td>\n",
       "      <td>Polyolefin</td>\n",
       "      <td>Polypropylene</td>\n",
       "      <td>Angus CSO</td>\n",
       "      <td>12-Sep-19</td>\n",
       "      <td>Fiber</td>\n",
       "      <td>Black</td>\n",
       "      <td>1200</td>\n",
       "      <td>54</td>\n",
       "    </tr>\n",
       "    <tr>\n",
       "      <th>4</th>\n",
       "      <td>Amir Parizi</td>\n",
       "      <td>Combined Sewer Overflow</td>\n",
       "      <td>20191012-01-200-05</td>\n",
       "      <td>2020-02-02</td>\n",
       "      <td>2020-03-21</td>\n",
       "      <td>AP</td>\n",
       "      <td>AP</td>\n",
       "      <td>YES</td>\n",
       "      <td>polyester</td>\n",
       "      <td>synthetic</td>\n",
       "      <td>plastic</td>\n",
       "      <td>polyester</td>\n",
       "      <td>polyester</td>\n",
       "      <td>Angus CSO</td>\n",
       "      <td>12-Sep-19</td>\n",
       "      <td>Fiber</td>\n",
       "      <td>Black</td>\n",
       "      <td>582</td>\n",
       "      <td>20</td>\n",
       "    </tr>\n",
       "    <tr>\n",
       "      <th>...</th>\n",
       "      <td>...</td>\n",
       "      <td>...</td>\n",
       "      <td>...</td>\n",
       "      <td>...</td>\n",
       "      <td>...</td>\n",
       "      <td>...</td>\n",
       "      <td>...</td>\n",
       "      <td>...</td>\n",
       "      <td>...</td>\n",
       "      <td>...</td>\n",
       "      <td>...</td>\n",
       "      <td>...</td>\n",
       "      <td>...</td>\n",
       "      <td>...</td>\n",
       "      <td>...</td>\n",
       "      <td>...</td>\n",
       "      <td>...</td>\n",
       "      <td>...</td>\n",
       "      <td>...</td>\n",
       "    </tr>\n",
       "    <tr>\n",
       "      <th>116</th>\n",
       "      <td>Amir Parizi</td>\n",
       "      <td>Combined Sewer Overflow</td>\n",
       "      <td>20190710-02-200-30</td>\n",
       "      <td>2020-05-02</td>\n",
       "      <td>2020-03-21</td>\n",
       "      <td>AP</td>\n",
       "      <td>AP</td>\n",
       "      <td>YES</td>\n",
       "      <td>polyester</td>\n",
       "      <td>synthetic</td>\n",
       "      <td>plastic</td>\n",
       "      <td>polyester</td>\n",
       "      <td>polyester</td>\n",
       "      <td>English Bay</td>\n",
       "      <td>10-Jul-19</td>\n",
       "      <td>Fiber</td>\n",
       "      <td>Red</td>\n",
       "      <td>1316</td>\n",
       "      <td>20</td>\n",
       "    </tr>\n",
       "    <tr>\n",
       "      <th>117</th>\n",
       "      <td>Amir Parizi</td>\n",
       "      <td>Combined Sewer Overflow</td>\n",
       "      <td>20190710-02-200-31</td>\n",
       "      <td>2020-05-02</td>\n",
       "      <td>2020-03-21</td>\n",
       "      <td>AP</td>\n",
       "      <td>AP</td>\n",
       "      <td>YES</td>\n",
       "      <td>cellulosic</td>\n",
       "      <td>unknown</td>\n",
       "      <td>cellulosic</td>\n",
       "      <td>cellulosic</td>\n",
       "      <td>cellulosic</td>\n",
       "      <td>English Bay</td>\n",
       "      <td>10-Jul-19</td>\n",
       "      <td>Fiber</td>\n",
       "      <td>Black</td>\n",
       "      <td>680</td>\n",
       "      <td>37</td>\n",
       "    </tr>\n",
       "    <tr>\n",
       "      <th>118</th>\n",
       "      <td>Amir Parizi</td>\n",
       "      <td>Combined Sewer Overflow</td>\n",
       "      <td>20190710-02-200-32</td>\n",
       "      <td>2020-05-02</td>\n",
       "      <td>2020-03-21</td>\n",
       "      <td>AP</td>\n",
       "      <td>AP</td>\n",
       "      <td>NO</td>\n",
       "      <td>cellulosic</td>\n",
       "      <td>unknown</td>\n",
       "      <td>cellulosic</td>\n",
       "      <td>cellulosic</td>\n",
       "      <td>cellulosic</td>\n",
       "      <td>English Bay</td>\n",
       "      <td>10-Jul-19</td>\n",
       "      <td>Fiber</td>\n",
       "      <td>Black</td>\n",
       "      <td>2156</td>\n",
       "      <td>24</td>\n",
       "    </tr>\n",
       "    <tr>\n",
       "      <th>119</th>\n",
       "      <td>Amir Parizi</td>\n",
       "      <td>Combined Sewer Overflow</td>\n",
       "      <td>20190710-02-200-33</td>\n",
       "      <td>2020-05-02</td>\n",
       "      <td>2020-03-21</td>\n",
       "      <td>AP</td>\n",
       "      <td>AP</td>\n",
       "      <td>NO</td>\n",
       "      <td>cellulosic</td>\n",
       "      <td>unknown</td>\n",
       "      <td>cellulosic</td>\n",
       "      <td>cellulosic</td>\n",
       "      <td>cellulosic</td>\n",
       "      <td>English Bay</td>\n",
       "      <td>10-Jul-19</td>\n",
       "      <td>Fiber</td>\n",
       "      <td>Black</td>\n",
       "      <td>1196</td>\n",
       "      <td>15</td>\n",
       "    </tr>\n",
       "    <tr>\n",
       "      <th>120</th>\n",
       "      <td>Amir Parizi</td>\n",
       "      <td>Combined Sewer Overflow</td>\n",
       "      <td>20190710-02-200-34</td>\n",
       "      <td>2020-05-02</td>\n",
       "      <td>2020-03-21</td>\n",
       "      <td>AP</td>\n",
       "      <td>AP</td>\n",
       "      <td>NO</td>\n",
       "      <td>polyester</td>\n",
       "      <td>synthetic</td>\n",
       "      <td>plastic</td>\n",
       "      <td>polyester</td>\n",
       "      <td>polyester</td>\n",
       "      <td>English Bay</td>\n",
       "      <td>10-Jul-19</td>\n",
       "      <td>Fiber</td>\n",
       "      <td>Black</td>\n",
       "      <td>1099</td>\n",
       "      <td>38</td>\n",
       "    </tr>\n",
       "  </tbody>\n",
       "</table>\n",
       "<p>121 rows × 19 columns</p>\n",
       "</div>"
      ],
      "text/plain": [
       "    Scientist Name      Name of the project           Sample ID  \\\n",
       "0      Amir Parizi  Combined Sewer Overflow  20191012-01-200-01   \n",
       "1      Amir Parizi  Combined Sewer Overflow  20191012-02-200-02   \n",
       "2      Amir Parizi  Combined Sewer Overflow  20191012-01-200-03   \n",
       "3      Amir Parizi  Combined Sewer Overflow  20191012-01-200-04   \n",
       "4      Amir Parizi  Combined Sewer Overflow  20191012-01-200-05   \n",
       "..             ...                      ...                 ...   \n",
       "116    Amir Parizi  Combined Sewer Overflow  20190710-02-200-30   \n",
       "117    Amir Parizi  Combined Sewer Overflow  20190710-02-200-31   \n",
       "118    Amir Parizi  Combined Sewer Overflow  20190710-02-200-32   \n",
       "119    Amir Parizi  Combined Sewer Overflow  20190710-02-200-33   \n",
       "120    Amir Parizi  Combined Sewer Overflow  20190710-02-200-34   \n",
       "\n",
       "    Date FTIR Analysis Date of QA/QC FTIR Analyst QA -1 SMP?     FTIR final  \\\n",
       "0           2020-01-23    2020-03-23           AP    AP   NO     cellulosic   \n",
       "1           2020-01-25    2020-03-21           AP    AP   NO     cellulosic   \n",
       "2           2020-05-02    2020-03-21           AP    AP   NO     cellulosic   \n",
       "3           2020-02-02    2020-03-21           AP    AP  YES  Polypropylene   \n",
       "4           2020-02-02    2020-03-21           AP    AP  YES     polyester    \n",
       "..                 ...           ...          ...   ...  ...            ...   \n",
       "116         2020-05-02    2020-03-21           AP    AP  YES     polyester    \n",
       "117         2020-05-02    2020-03-21           AP    AP  YES     cellulosic   \n",
       "118         2020-05-02    2020-03-21           AP    AP   NO     cellulosic   \n",
       "119         2020-05-02    2020-03-21           AP    AP   NO     cellulosic   \n",
       "120         2020-05-02    2020-03-21           AP    AP   NO     polyester    \n",
       "\n",
       "       Origin     Category       Group       Material     Location       Date  \\\n",
       "0      unknown  cellulosic  cellulosic     cellulosic    Angus CSO  12-Sep-19   \n",
       "1      unknown  cellulosic  cellulosic     cellulosic    Angus CSO  12-Sep-19   \n",
       "2      unknown  cellulosic  cellulosic     cellulosic    Angus CSO  12-Sep-19   \n",
       "3    synthetic     plastic  Polyolefin  Polypropylene    Angus CSO  12-Sep-19   \n",
       "4    synthetic     plastic  polyester      polyester     Angus CSO  12-Sep-19   \n",
       "..         ...         ...         ...            ...          ...        ...   \n",
       "116  synthetic     plastic  polyester      polyester   English Bay  10-Jul-19   \n",
       "117    unknown  cellulosic  cellulosic     cellulosic  English Bay  10-Jul-19   \n",
       "118    unknown  cellulosic  cellulosic     cellulosic  English Bay  10-Jul-19   \n",
       "119    unknown  cellulosic  cellulosic     cellulosic  English Bay  10-Jul-19   \n",
       "120  synthetic     plastic  polyester      polyester   English Bay  10-Jul-19   \n",
       "\n",
       "     Shape Colour Height Width  \n",
       "0    Fiber   Pink    128    11  \n",
       "1    Fiber  Green    149     8  \n",
       "2    Fiber   Blue   5010   126  \n",
       "3    Fiber  Black   1200    54  \n",
       "4    Fiber  Black    582    20  \n",
       "..     ...    ...    ...   ...  \n",
       "116  Fiber    Red   1316    20  \n",
       "117  Fiber  Black    680    37  \n",
       "118  Fiber  Black   2156    24  \n",
       "119  Fiber  Black   1196    15  \n",
       "120  Fiber  Black   1099    38  \n",
       "\n",
       "[121 rows x 19 columns]"
      ]
     },
     "execution_count": 2,
     "metadata": {},
     "output_type": "execute_result"
    }
   ],
   "source": [
    "import pandas as pd\n",
    "import random\n",
    "import numpy as np\n",
    "import seaborn as sns\n",
    "import matplotlib.pyplot as plt\n",
    "table = pd.read_csv('QA-QC-V5.csv')\n",
    "table['Category'] = table['Category'].str.replace('P','p')\n",
    "table[table['Category']=='LOST']='unidentified'\n",
    "\n",
    "table"
   ]
  },
  {
   "cell_type": "code",
   "execution_count": 3,
   "metadata": {},
   "outputs": [
    {
     "data": {
      "text/plain": [
       "Text(0, 0.5, 'Number of particles in each Category')"
      ]
     },
     "execution_count": 3,
     "metadata": {},
     "output_type": "execute_result"
    },
    {
     "data": {
      "image/png": "[encoded data removed]",
      "text/plain": [
       "<Figure size 432x288 with 1 Axes>"
      ]
     },
     "metadata": {
      "needs_background": "light"
     },
     "output_type": "display_data"
    }
   ],
   "source": [
    "fig,ax=plt.subplots()\n",
    "category=table['Category'].value_counts()\n",
    "ax.bar(category.index,category)\n",
    "plt.xlabel('Category of Particles')\n",
    "plt.ylabel('Number of particles in each Category')"
   ]
  },
  {
   "cell_type": "code",
   "execution_count": 4,
   "metadata": {},
   "outputs": [
    {
     "data": {
      "text/plain": [
       "plastic         60\n",
       "cellulosic      45\n",
       "unidentified    15\n",
       "mineral          1\n",
       "Name: Category, dtype: int64"
      ]
     },
     "execution_count": 4,
     "metadata": {},
     "output_type": "execute_result"
    }
   ],
   "source": [
    "table['Category'].value_counts()\n"
   ]
  },
  {
   "cell_type": "code",
   "execution_count": 5,
   "metadata": {},
   "outputs": [
    {
     "data": {
      "text/plain": [
       "([0, 1, 2, 3, 4, 5, 6, 7, 8, 9, 10, 11, 12],\n",
       " <a list of 13 Text xticklabel objects>)"
      ]
     },
     "execution_count": 5,
     "metadata": {},
     "output_type": "execute_result"
    },
    {
     "data": {
      "image/png": "[encoded data removed]",
      "text/plain": [
       "<Figure size 432x288 with 1 Axes>"
      ]
     },
     "metadata": {
      "needs_background": "light"
     },
     "output_type": "display_data"
    }
   ],
   "source": [
    "fig,ax=plt.subplots()\n",
    "FTIR_final=table['FTIR final'].value_counts()\n",
    "ax.bar(FTIR_final.index,FTIR_final)\n",
    "plt.xticks(rotation=90)\n"
   ]
  },
  {
   "cell_type": "code",
   "execution_count": 6,
   "metadata": {},
   "outputs": [
    {
     "data": {
      "text/plain": [
       "(array([ 0,  1,  2,  3,  4,  5,  6,  7,  8,  9, 10, 11, 12]),\n",
       " <a list of 13 Text xticklabel objects>)"
      ]
     },
     "execution_count": 6,
     "metadata": {},
     "output_type": "execute_result"
    },
    {
     "data": {
      "image/png": "[encoded data removed]",
      "text/plain": [
       "<Figure size 432x288 with 1 Axes>"
      ]
     },
     "metadata": {
      "needs_background": "light"
     },
     "output_type": "display_data"
    }
   ],
   "source": [
    "sns.countplot(x='Category',data= table,hue='SMP?');\n",
    "sns.countplot(x='FTIR final',data= table,hue='SMP?');\n",
    "plt.xticks(rotation=90)"
   ]
  },
  {
   "cell_type": "code",
   "execution_count": 7,
   "metadata": {},
   "outputs": [
    {
     "ename": "ValueError",
     "evalue": "could not convert string to float: 'unidentified'",
     "output_type": "error",
     "traceback": [
      "\u001b[0;31m---------------------------------------------------------------------------\u001b[0m",
      "\u001b[0;31mValueError\u001b[0m                                Traceback (most recent call last)",
      "\u001b[0;32m<ipython-input-7-f6146af460b9>\u001b[0m in \u001b[0;36m<module>\u001b[0;34m\u001b[0m\n\u001b[0;32m----> 1\u001b[0;31m \u001b[0msns\u001b[0m\u001b[0;34m.\u001b[0m\u001b[0mdistplot\u001b[0m\u001b[0;34m(\u001b[0m\u001b[0mtable\u001b[0m\u001b[0;34m[\u001b[0m\u001b[0;34m'Height'\u001b[0m\u001b[0;34m]\u001b[0m\u001b[0;34m,\u001b[0m \u001b[0mkde\u001b[0m\u001b[0;34m=\u001b[0m\u001b[0;32mFalse\u001b[0m\u001b[0;34m,\u001b[0m\u001b[0mbins\u001b[0m\u001b[0;34m=\u001b[0m\u001b[0;36m20\u001b[0m\u001b[0;34m)\u001b[0m\u001b[0;34m;\u001b[0m\u001b[0;34m\u001b[0m\u001b[0;34m\u001b[0m\u001b[0m\n\u001b[0m",
      "\u001b[0;32m~/opt/anaconda3/lib/python3.7/site-packages/seaborn/distributions.py\u001b[0m in \u001b[0;36mdistplot\u001b[0;34m(a, bins, hist, kde, rug, fit, hist_kws, kde_kws, rug_kws, fit_kws, color, vertical, norm_hist, axlabel, label, ax)\u001b[0m\n\u001b[1;32m    177\u001b[0m \u001b[0;34m\u001b[0m\u001b[0m\n\u001b[1;32m    178\u001b[0m     \u001b[0;31m# Make a a 1-d float array\u001b[0m\u001b[0;34m\u001b[0m\u001b[0;34m\u001b[0m\u001b[0;34m\u001b[0m\u001b[0m\n\u001b[0;32m--> 179\u001b[0;31m     \u001b[0ma\u001b[0m \u001b[0;34m=\u001b[0m \u001b[0mnp\u001b[0m\u001b[0;34m.\u001b[0m\u001b[0masarray\u001b[0m\u001b[0;34m(\u001b[0m\u001b[0ma\u001b[0m\u001b[0;34m,\u001b[0m \u001b[0mnp\u001b[0m\u001b[0;34m.\u001b[0m\u001b[0mfloat\u001b[0m\u001b[0;34m)\u001b[0m\u001b[0;34m\u001b[0m\u001b[0;34m\u001b[0m\u001b[0m\n\u001b[0m\u001b[1;32m    180\u001b[0m     \u001b[0;32mif\u001b[0m \u001b[0ma\u001b[0m\u001b[0;34m.\u001b[0m\u001b[0mndim\u001b[0m \u001b[0;34m>\u001b[0m \u001b[0;36m1\u001b[0m\u001b[0;34m:\u001b[0m\u001b[0;34m\u001b[0m\u001b[0;34m\u001b[0m\u001b[0m\n\u001b[1;32m    181\u001b[0m         \u001b[0ma\u001b[0m \u001b[0;34m=\u001b[0m \u001b[0ma\u001b[0m\u001b[0;34m.\u001b[0m\u001b[0msqueeze\u001b[0m\u001b[0;34m(\u001b[0m\u001b[0;34m)\u001b[0m\u001b[0;34m\u001b[0m\u001b[0;34m\u001b[0m\u001b[0m\n",
      "\u001b[0;32m~/opt/anaconda3/lib/python3.7/site-packages/numpy/core/_asarray.py\u001b[0m in \u001b[0;36masarray\u001b[0;34m(a, dtype, order)\u001b[0m\n\u001b[1;32m     83\u001b[0m \u001b[0;34m\u001b[0m\u001b[0m\n\u001b[1;32m     84\u001b[0m     \"\"\"\n\u001b[0;32m---> 85\u001b[0;31m     \u001b[0;32mreturn\u001b[0m \u001b[0marray\u001b[0m\u001b[0;34m(\u001b[0m\u001b[0ma\u001b[0m\u001b[0;34m,\u001b[0m \u001b[0mdtype\u001b[0m\u001b[0;34m,\u001b[0m \u001b[0mcopy\u001b[0m\u001b[0;34m=\u001b[0m\u001b[0;32mFalse\u001b[0m\u001b[0;34m,\u001b[0m \u001b[0morder\u001b[0m\u001b[0;34m=\u001b[0m\u001b[0morder\u001b[0m\u001b[0;34m)\u001b[0m\u001b[0;34m\u001b[0m\u001b[0;34m\u001b[0m\u001b[0m\n\u001b[0m\u001b[1;32m     86\u001b[0m \u001b[0;34m\u001b[0m\u001b[0m\n\u001b[1;32m     87\u001b[0m \u001b[0;34m\u001b[0m\u001b[0m\n",
      "\u001b[0;32m~/opt/anaconda3/lib/python3.7/site-packages/pandas/core/series.py\u001b[0m in \u001b[0;36m__array__\u001b[0;34m(self, dtype)\u001b[0m\n\u001b[1;32m    752\u001b[0m               dtype='datetime64[ns]')\n\u001b[1;32m    753\u001b[0m         \"\"\"\n\u001b[0;32m--> 754\u001b[0;31m         \u001b[0;32mreturn\u001b[0m \u001b[0mnp\u001b[0m\u001b[0;34m.\u001b[0m\u001b[0masarray\u001b[0m\u001b[0;34m(\u001b[0m\u001b[0mself\u001b[0m\u001b[0;34m.\u001b[0m\u001b[0marray\u001b[0m\u001b[0;34m,\u001b[0m \u001b[0mdtype\u001b[0m\u001b[0;34m)\u001b[0m\u001b[0;34m\u001b[0m\u001b[0;34m\u001b[0m\u001b[0m\n\u001b[0m\u001b[1;32m    755\u001b[0m \u001b[0;34m\u001b[0m\u001b[0m\n\u001b[1;32m    756\u001b[0m     \u001b[0;31m# ----------------------------------------------------------------------\u001b[0m\u001b[0;34m\u001b[0m\u001b[0;34m\u001b[0m\u001b[0;34m\u001b[0m\u001b[0m\n",
      "\u001b[0;32m~/opt/anaconda3/lib/python3.7/site-packages/numpy/core/_asarray.py\u001b[0m in \u001b[0;36masarray\u001b[0;34m(a, dtype, order)\u001b[0m\n\u001b[1;32m     83\u001b[0m \u001b[0;34m\u001b[0m\u001b[0m\n\u001b[1;32m     84\u001b[0m     \"\"\"\n\u001b[0;32m---> 85\u001b[0;31m     \u001b[0;32mreturn\u001b[0m \u001b[0marray\u001b[0m\u001b[0;34m(\u001b[0m\u001b[0ma\u001b[0m\u001b[0;34m,\u001b[0m \u001b[0mdtype\u001b[0m\u001b[0;34m,\u001b[0m \u001b[0mcopy\u001b[0m\u001b[0;34m=\u001b[0m\u001b[0;32mFalse\u001b[0m\u001b[0;34m,\u001b[0m \u001b[0morder\u001b[0m\u001b[0;34m=\u001b[0m\u001b[0morder\u001b[0m\u001b[0;34m)\u001b[0m\u001b[0;34m\u001b[0m\u001b[0;34m\u001b[0m\u001b[0m\n\u001b[0m\u001b[1;32m     86\u001b[0m \u001b[0;34m\u001b[0m\u001b[0m\n\u001b[1;32m     87\u001b[0m \u001b[0;34m\u001b[0m\u001b[0m\n",
      "\u001b[0;32m~/opt/anaconda3/lib/python3.7/site-packages/pandas/core/arrays/numpy_.py\u001b[0m in \u001b[0;36m__array__\u001b[0;34m(self, dtype)\u001b[0m\n\u001b[1;32m    182\u001b[0m \u001b[0;34m\u001b[0m\u001b[0m\n\u001b[1;32m    183\u001b[0m     \u001b[0;32mdef\u001b[0m \u001b[0m__array__\u001b[0m\u001b[0;34m(\u001b[0m\u001b[0mself\u001b[0m\u001b[0;34m,\u001b[0m \u001b[0mdtype\u001b[0m\u001b[0;34m=\u001b[0m\u001b[0;32mNone\u001b[0m\u001b[0;34m)\u001b[0m \u001b[0;34m->\u001b[0m \u001b[0mnp\u001b[0m\u001b[0;34m.\u001b[0m\u001b[0mndarray\u001b[0m\u001b[0;34m:\u001b[0m\u001b[0;34m\u001b[0m\u001b[0;34m\u001b[0m\u001b[0m\n\u001b[0;32m--> 184\u001b[0;31m         \u001b[0;32mreturn\u001b[0m \u001b[0mnp\u001b[0m\u001b[0;34m.\u001b[0m\u001b[0masarray\u001b[0m\u001b[0;34m(\u001b[0m\u001b[0mself\u001b[0m\u001b[0;34m.\u001b[0m\u001b[0m_ndarray\u001b[0m\u001b[0;34m,\u001b[0m \u001b[0mdtype\u001b[0m\u001b[0;34m=\u001b[0m\u001b[0mdtype\u001b[0m\u001b[0;34m)\u001b[0m\u001b[0;34m\u001b[0m\u001b[0;34m\u001b[0m\u001b[0m\n\u001b[0m\u001b[1;32m    185\u001b[0m \u001b[0;34m\u001b[0m\u001b[0m\n\u001b[1;32m    186\u001b[0m     \u001b[0m_HANDLED_TYPES\u001b[0m \u001b[0;34m=\u001b[0m \u001b[0;34m(\u001b[0m\u001b[0mnp\u001b[0m\u001b[0;34m.\u001b[0m\u001b[0mndarray\u001b[0m\u001b[0;34m,\u001b[0m \u001b[0mnumbers\u001b[0m\u001b[0;34m.\u001b[0m\u001b[0mNumber\u001b[0m\u001b[0;34m)\u001b[0m\u001b[0;34m\u001b[0m\u001b[0;34m\u001b[0m\u001b[0m\n",
      "\u001b[0;32m~/opt/anaconda3/lib/python3.7/site-packages/numpy/core/_asarray.py\u001b[0m in \u001b[0;36masarray\u001b[0;34m(a, dtype, order)\u001b[0m\n\u001b[1;32m     83\u001b[0m \u001b[0;34m\u001b[0m\u001b[0m\n\u001b[1;32m     84\u001b[0m     \"\"\"\n\u001b[0;32m---> 85\u001b[0;31m     \u001b[0;32mreturn\u001b[0m \u001b[0marray\u001b[0m\u001b[0;34m(\u001b[0m\u001b[0ma\u001b[0m\u001b[0;34m,\u001b[0m \u001b[0mdtype\u001b[0m\u001b[0;34m,\u001b[0m \u001b[0mcopy\u001b[0m\u001b[0;34m=\u001b[0m\u001b[0;32mFalse\u001b[0m\u001b[0;34m,\u001b[0m \u001b[0morder\u001b[0m\u001b[0;34m=\u001b[0m\u001b[0morder\u001b[0m\u001b[0;34m)\u001b[0m\u001b[0;34m\u001b[0m\u001b[0;34m\u001b[0m\u001b[0m\n\u001b[0m\u001b[1;32m     86\u001b[0m \u001b[0;34m\u001b[0m\u001b[0m\n\u001b[1;32m     87\u001b[0m \u001b[0;34m\u001b[0m\u001b[0m\n",
      "\u001b[0;31mValueError\u001b[0m: could not convert string to float: 'unidentified'"
     ]
    },
    {
     "data": {
      "image/png": "[encoded data removed]",
      "text/plain": [
       "<Figure size 432x288 with 1 Axes>"
      ]
     },
     "metadata": {
      "needs_background": "light"
     },
     "output_type": "display_data"
    }
   ],
   "source": [
    "sns.distplot(table['Height'], kde=False,bins=20);"
   ]
  },
  {
   "cell_type": "code",
   "execution_count": null,
   "metadata": {},
   "outputs": [],
   "source": [
    "sns.jointplot(x=\"Height\", y=\"Category_num\", data=table, kind=\"kde\");"
   ]
  },
  {
   "cell_type": "code",
   "execution_count": null,
   "metadata": {},
   "outputs": [],
   "source": [
    "sns.catplot(x=\"Category\", y=\"Height um\", kind=\"box\", data=table);\n",
    "#long axis would be better!"
   ]
  },
  {
   "cell_type": "code",
   "execution_count": null,
   "metadata": {},
   "outputs": [],
   "source": [
    "sns.catplot(x=\"Category\", y=\"Height\", kind=\"box\", data=table,hue='SMP?');"
   ]
  },
  {
   "cell_type": "code",
   "execution_count": null,
   "metadata": {},
   "outputs": [],
   "source": [
    "sns.countplot(x='FTIR final',data= table,hue='SMP?');\n",
    "plt.xticks(rotation=90)\n",
    "\n"
   ]
  },
  {
   "cell_type": "code",
   "execution_count": null,
   "metadata": {},
   "outputs": [],
   "source": [
    "sns.countplot(x='Category',data=table,hue='Colour');\n",
    "plt.xticks(rotation=90)\n"
   ]
  },
  {
   "cell_type": "code",
   "execution_count": null,
   "metadata": {},
   "outputs": [],
   "source": [
    "sns.countplot(x='Category',data=table,hue='Shape');\n",
    "plt.xticks(rotation=90);\n"
   ]
  },
  {
   "cell_type": "code",
   "execution_count": null,
   "metadata": {},
   "outputs": [],
   "source": [
    "# FRACTIONS AND THEIR ERRORS"
   ]
  },
  {
   "cell_type": "code",
   "execution_count": 14,
   "metadata": {},
   "outputs": [],
   "source": [
    "def random_plastic(fraction,ran,data,totnum):\n",
    "    \n",
    "    for i in range(ran):\n",
    "        total_num = round(fraction * totnum)\n",
    "        random_collection=[]\n",
    "        random_index = random.sample(range(0,totnum),total_num)\n",
    "        for j in range(total_num):\n",
    "            random_collection.append(data['Category'][random_index[j]])\n",
    "        if i == 0:\n",
    "            random_table=pd.DataFrame(random_collection)\n",
    "        else:\n",
    "            random_table[i]=pd.DataFrame(random_collection)\n",
    "    return random_table\n",
    "#random_table"
   ]
  },
  {
   "cell_type": "code",
   "execution_count": 15,
   "metadata": {},
   "outputs": [],
   "source": [
    "def err_plastic(fraction,ran,data):\n",
    "    pl=[]\n",
    "    ce=[]\n",
    "    category=data['Category'].value_counts()\n",
    "    error_total=pd.DataFrame(columns=['error_pl','error_ce'])\n",
    "    for i in range(ran):\n",
    "        random_counts=random_table[i].value_counts()\n",
    "        if ('cellulosic' in random_counts.index) == False:\n",
    "            random_counts['cellulosic']=0\n",
    "        if  ('plastic' in random_counts.index) == False:\n",
    "            random_counts['plastic']=0\n",
    "        error_plastic=((random_counts['plastic']/fraction)-category['plastic'])/(category['plastic'])*100\n",
    "        error_cellulosic=((random_counts['cellulosic']/fraction)-category['cellulosic'])/(category['cellulosic'])*100\n",
    "        pl.append(error_plastic)\n",
    "        ce.append(error_cellulosic)\n",
    "    error_total['error_pl']=pl\n",
    "    error_total['error_ce']=ce\n",
    "    return (error_total,random_counts)\n",
    "#error_total\n",
    "\n",
    "    \n",
    "    "
   ]
  },
  {
   "cell_type": "code",
   "execution_count": 16,
   "metadata": {},
   "outputs": [
    {
     "data": {
      "text/html": [
       "<div>\n",
       "<style scoped>\n",
       "    .dataframe tbody tr th:only-of-type {\n",
       "        vertical-align: middle;\n",
       "    }\n",
       "\n",
       "    .dataframe tbody tr th {\n",
       "        vertical-align: top;\n",
       "    }\n",
       "\n",
       "    .dataframe thead th {\n",
       "        text-align: right;\n",
       "    }\n",
       "</style>\n",
       "<table border=\"1\" class=\"dataframe\">\n",
       "  <thead>\n",
       "    <tr style=\"text-align: right;\">\n",
       "      <th></th>\n",
       "      <th>error_pl</th>\n",
       "      <th>error_ce</th>\n",
       "    </tr>\n",
       "  </thead>\n",
       "  <tbody>\n",
       "    <tr>\n",
       "      <th>0</th>\n",
       "      <td>25.000000</td>\n",
       "      <td>-33.333333</td>\n",
       "    </tr>\n",
       "    <tr>\n",
       "      <th>1</th>\n",
       "      <td>-16.666667</td>\n",
       "      <td>-11.111111</td>\n",
       "    </tr>\n",
       "    <tr>\n",
       "      <th>2</th>\n",
       "      <td>8.333333</td>\n",
       "      <td>-11.111111</td>\n",
       "    </tr>\n",
       "    <tr>\n",
       "      <th>3</th>\n",
       "      <td>-8.333333</td>\n",
       "      <td>22.222222</td>\n",
       "    </tr>\n",
       "    <tr>\n",
       "      <th>4</th>\n",
       "      <td>8.333333</td>\n",
       "      <td>0.000000</td>\n",
       "    </tr>\n",
       "    <tr>\n",
       "      <th>...</th>\n",
       "      <td>...</td>\n",
       "      <td>...</td>\n",
       "    </tr>\n",
       "    <tr>\n",
       "      <th>95</th>\n",
       "      <td>8.333333</td>\n",
       "      <td>-22.222222</td>\n",
       "    </tr>\n",
       "    <tr>\n",
       "      <th>96</th>\n",
       "      <td>8.333333</td>\n",
       "      <td>11.111111</td>\n",
       "    </tr>\n",
       "    <tr>\n",
       "      <th>97</th>\n",
       "      <td>50.000000</td>\n",
       "      <td>-44.444444</td>\n",
       "    </tr>\n",
       "    <tr>\n",
       "      <th>98</th>\n",
       "      <td>0.000000</td>\n",
       "      <td>-11.111111</td>\n",
       "    </tr>\n",
       "    <tr>\n",
       "      <th>99</th>\n",
       "      <td>-16.666667</td>\n",
       "      <td>22.222222</td>\n",
       "    </tr>\n",
       "  </tbody>\n",
       "</table>\n",
       "<p>100 rows × 2 columns</p>\n",
       "</div>"
      ],
      "text/plain": [
       "     error_pl   error_ce\n",
       "0   25.000000 -33.333333\n",
       "1  -16.666667 -11.111111\n",
       "2    8.333333 -11.111111\n",
       "3   -8.333333  22.222222\n",
       "4    8.333333   0.000000\n",
       "..        ...        ...\n",
       "95   8.333333 -22.222222\n",
       "96   8.333333  11.111111\n",
       "97  50.000000 -44.444444\n",
       "98   0.000000 -11.111111\n",
       "99 -16.666667  22.222222\n",
       "\n",
       "[100 rows x 2 columns]"
      ]
     },
     "execution_count": 16,
     "metadata": {},
     "output_type": "execute_result"
    }
   ],
   "source": [
    "random_table=random_plastic(fraction=0.2,ran=100,data=table,totnum=len(table))\n",
    "(error_total,random_counts)=err_plastic(fraction=0.2,ran=100,data=table)\n",
    "random_table\n",
    "error_total"
   ]
  },
  {
   "cell_type": "code",
   "execution_count": 17,
   "metadata": {
    "scrolled": true
   },
   "outputs": [
    {
     "name": "stdout",
     "output_type": "stream",
     "text": [
      "15.333333333333332\n",
      "19.666666666666643\n"
     ]
    }
   ],
   "source": [
    "abs_error_plastic=abs(error_total['error_pl']).mean()\n",
    "abs_error_cellulosic=abs(error_total['error_ce']).mean()\n",
    "print(abs_error_plastic)\n",
    "print(abs_error_cellulosic)"
   ]
  },
  {
   "cell_type": "code",
   "execution_count": 18,
   "metadata": {},
   "outputs": [],
   "source": [
    "pla=[]\n",
    "cel=[]\n",
    "error_table_total_pl={}\n",
    "error_table_total_ce={}\n",
    "for i in range(1,21):\n",
    "    random_table=random_plastic(fraction=0.05*i,ran=100,data=table,totnum=len(table))\n",
    "    (error_total,random_counts)=err_plastic(fraction=0.05*i,ran=100,data=table)\n",
    "    abs_error_plastic=abs(error_total['error_pl']).mean()\n",
    "    abs_error_cellulosic=abs(error_total['error_ce']).mean()\n",
    "    error_table_total_pl[i]=error_total['error_pl']\n",
    "    error_table_total_ce[i]=error_total['error_ce']\n",
    "    pla.append(abs_error_plastic)\n",
    "    cel.append(abs_error_cellulosic)\n",
    "        \n",
    "   "
   ]
  },
  {
   "cell_type": "code",
   "execution_count": 29,
   "metadata": {},
   "outputs": [
    {
     "data": {
      "text/plain": [
       "1     18.195842\n",
       "2     13.713795\n",
       "3      8.810683\n",
       "4      8.215817\n",
       "5      7.837505\n",
       "6      6.646235\n",
       "7      6.316429\n",
       "8      5.566396\n",
       "9      5.857814\n",
       "10     5.241101\n",
       "11     4.220586\n",
       "12     3.830836\n",
       "13     2.954146\n",
       "14     2.995966\n",
       "15     2.440564\n",
       "16     2.221112\n",
       "17     2.335796\n",
       "18     1.608038\n",
       "19     1.075820\n",
       "20     0.000000\n",
       "dtype: float64"
      ]
     },
     "execution_count": 29,
     "metadata": {},
     "output_type": "execute_result"
    }
   ],
   "source": [
    "error_with_std_plastic=pd.DataFrame(error_table_total_pl).std()/2\n",
    "error_with_std_plastic"
   ]
  },
  {
   "cell_type": "code",
   "execution_count": 44,
   "metadata": {},
   "outputs": [
    {
     "data": {
      "text/plain": [
       "([0, 1, 2, 3, 4, 5, 6, 7, 8, 9, 10, 11, 12, 13, 14, 15, 16, 17, 18, 19],\n",
       " <a list of 20 Text xticklabel objects>)"
      ]
     },
     "execution_count": 44,
     "metadata": {},
     "output_type": "execute_result"
    },
    {
     "data": {
      "image/png": "[encoded data removed]",
      "text/plain": [
       "<Figure size 432x288 with 1 Axes>"
      ]
     },
     "metadata": {
      "needs_background": "light"
     },
     "output_type": "display_data"
    }
   ],
   "source": [
    "error_with_std_plastic=pd.DataFrame(error_table_total_pl).std()/2\n",
    "fraction_index=['0.05','0.1','0.15','0.2','0.25','0.3','0.35','0.4','0.45','0.5','0.55','0.6','0.65','0.7','0.75','0.8','0.85','0.9','0.95','1.0']    \n",
    "sns.scatterplot(y=pla,x=fraction_index)\n",
    "plt.fill_between(fraction_index, pla-error_with_std_plastic,pla+error_with_std_plastic,alpha=0.3,edgecolor='#CC4F1B',facecolor='#FF9848')\n",
    "plt.xlabel('fraction of filter FT-IR based on sample with 161 particles')\n",
    "plt.ylabel('Error in Percentage')\n",
    "plt.legend(['Plastic'])\n",
    "plt.xticks(rotation=90)"
   ]
  },
  {
   "cell_type": "code",
   "execution_count": 48,
   "metadata": {},
   "outputs": [
    {
     "data": {
      "image/png": "[encoded data removed]",
      "text/plain": [
       "<Figure size 360x360 with 1 Axes>"
      ]
     },
     "metadata": {
      "needs_background": "light"
     },
     "output_type": "display_data"
    }
   ],
   "source": [
    "error_with_std_plastic=pd.DataFrame(error_table_total_pl)\n",
    "error_with_std_plastic.rename(columns={1:'0.05',2:'0.1',3:'0.15',4:'0.2',5:'0.25',6:'0.3',7:'0.35',8:'0.4',9:'0.45',10:'0.5',11:'0.55',12:'0.6',13:'0.65',14:'0.7',15:'0.75',16:'0.8',17:'0.85',18:'0.9',19:'0.95',20:'1.0'},inplace=True)  \n",
    "sns.catplot(data=abs(error_with_std_plastic),kind='bar')\n",
    "plt.xlabel('fraction of filter FT-IR')\n",
    "plt.ylabel('Error in counting Plastics')\n",
    "plt.xticks(rotation=90)\n",
    "plt.show()"
   ]
  },
  {
   "cell_type": "code",
   "execution_count": 49,
   "metadata": {},
   "outputs": [
    {
     "data": {
      "text/html": [
       "<div>\n",
       "<style scoped>\n",
       "    .dataframe tbody tr th:only-of-type {\n",
       "        vertical-align: middle;\n",
       "    }\n",
       "\n",
       "    .dataframe tbody tr th {\n",
       "        vertical-align: top;\n",
       "    }\n",
       "\n",
       "    .dataframe thead th {\n",
       "        text-align: right;\n",
       "    }\n",
       "</style>\n",
       "<table border=\"1\" class=\"dataframe\">\n",
       "  <thead>\n",
       "    <tr style=\"text-align: right;\">\n",
       "      <th></th>\n",
       "      <th>0.05</th>\n",
       "      <th>0.1</th>\n",
       "      <th>0.15</th>\n",
       "      <th>0.2</th>\n",
       "      <th>0.25</th>\n",
       "      <th>0.3</th>\n",
       "      <th>0.35</th>\n",
       "      <th>0.4</th>\n",
       "      <th>0.45</th>\n",
       "      <th>0.5</th>\n",
       "      <th>0.55</th>\n",
       "      <th>0.6</th>\n",
       "      <th>0.65</th>\n",
       "      <th>0.7</th>\n",
       "      <th>0.75</th>\n",
       "      <th>0.8</th>\n",
       "      <th>0.85</th>\n",
       "      <th>0.9</th>\n",
       "      <th>0.95</th>\n",
       "      <th>1.0</th>\n",
       "    </tr>\n",
       "  </thead>\n",
       "  <tbody>\n",
       "    <tr>\n",
       "      <th>0</th>\n",
       "      <td>33.333333</td>\n",
       "      <td>-50.000000</td>\n",
       "      <td>2.222222e+01</td>\n",
       "      <td>8.333333</td>\n",
       "      <td>0.000000</td>\n",
       "      <td>-1.111111e+01</td>\n",
       "      <td>4.761905e+00</td>\n",
       "      <td>4.166667</td>\n",
       "      <td>3.703704</td>\n",
       "      <td>-16.666667</td>\n",
       "      <td>3.030303e+00</td>\n",
       "      <td>1.111111e+01</td>\n",
       "      <td>-5.128205</td>\n",
       "      <td>7.142857e+00</td>\n",
       "      <td>-6.666667</td>\n",
       "      <td>4.166667</td>\n",
       "      <td>-1.960784e+00</td>\n",
       "      <td>0.000000</td>\n",
       "      <td>-1.754386</td>\n",
       "      <td>0.0</td>\n",
       "    </tr>\n",
       "    <tr>\n",
       "      <th>1</th>\n",
       "      <td>66.666667</td>\n",
       "      <td>16.666667</td>\n",
       "      <td>1.111111e+01</td>\n",
       "      <td>8.333333</td>\n",
       "      <td>6.666667</td>\n",
       "      <td>5.555556e+00</td>\n",
       "      <td>-1.184238e-14</td>\n",
       "      <td>-8.333333</td>\n",
       "      <td>0.000000</td>\n",
       "      <td>3.333333</td>\n",
       "      <td>-1.184238e-14</td>\n",
       "      <td>5.555556e+00</td>\n",
       "      <td>7.692308</td>\n",
       "      <td>4.761905e+00</td>\n",
       "      <td>-4.444444</td>\n",
       "      <td>-6.250000</td>\n",
       "      <td>-3.921569e+00</td>\n",
       "      <td>1.851852</td>\n",
       "      <td>-1.754386</td>\n",
       "      <td>0.0</td>\n",
       "    </tr>\n",
       "    <tr>\n",
       "      <th>2</th>\n",
       "      <td>66.666667</td>\n",
       "      <td>16.666667</td>\n",
       "      <td>-1.111111e+01</td>\n",
       "      <td>8.333333</td>\n",
       "      <td>-26.666667</td>\n",
       "      <td>1.111111e+01</td>\n",
       "      <td>-4.761905e+00</td>\n",
       "      <td>-16.666667</td>\n",
       "      <td>14.814815</td>\n",
       "      <td>10.000000</td>\n",
       "      <td>3.030303e+00</td>\n",
       "      <td>-1.111111e+01</td>\n",
       "      <td>5.128205</td>\n",
       "      <td>1.190476e+01</td>\n",
       "      <td>-6.666667</td>\n",
       "      <td>-4.166667</td>\n",
       "      <td>3.921569e+00</td>\n",
       "      <td>1.851852</td>\n",
       "      <td>-1.754386</td>\n",
       "      <td>0.0</td>\n",
       "    </tr>\n",
       "    <tr>\n",
       "      <th>3</th>\n",
       "      <td>0.000000</td>\n",
       "      <td>0.000000</td>\n",
       "      <td>1.111111e+01</td>\n",
       "      <td>0.000000</td>\n",
       "      <td>-13.333333</td>\n",
       "      <td>-1.184238e-14</td>\n",
       "      <td>4.761905e+00</td>\n",
       "      <td>-4.166667</td>\n",
       "      <td>7.407407</td>\n",
       "      <td>-10.000000</td>\n",
       "      <td>9.090909e+00</td>\n",
       "      <td>5.555556e+00</td>\n",
       "      <td>2.564103</td>\n",
       "      <td>9.523810e+00</td>\n",
       "      <td>-2.222222</td>\n",
       "      <td>2.083333</td>\n",
       "      <td>7.843137e+00</td>\n",
       "      <td>1.851852</td>\n",
       "      <td>-3.508772</td>\n",
       "      <td>0.0</td>\n",
       "    </tr>\n",
       "    <tr>\n",
       "      <th>4</th>\n",
       "      <td>0.000000</td>\n",
       "      <td>-16.666667</td>\n",
       "      <td>-1.184238e-14</td>\n",
       "      <td>0.000000</td>\n",
       "      <td>20.000000</td>\n",
       "      <td>-5.555556e+00</td>\n",
       "      <td>9.523810e+00</td>\n",
       "      <td>-12.500000</td>\n",
       "      <td>7.407407</td>\n",
       "      <td>-13.333333</td>\n",
       "      <td>6.060606e+00</td>\n",
       "      <td>1.111111e+01</td>\n",
       "      <td>-15.384615</td>\n",
       "      <td>-2.380952e+00</td>\n",
       "      <td>-4.444444</td>\n",
       "      <td>-4.166667</td>\n",
       "      <td>-1.960784e+00</td>\n",
       "      <td>0.000000</td>\n",
       "      <td>-1.754386</td>\n",
       "      <td>0.0</td>\n",
       "    </tr>\n",
       "    <tr>\n",
       "      <th>...</th>\n",
       "      <td>...</td>\n",
       "      <td>...</td>\n",
       "      <td>...</td>\n",
       "      <td>...</td>\n",
       "      <td>...</td>\n",
       "      <td>...</td>\n",
       "      <td>...</td>\n",
       "      <td>...</td>\n",
       "      <td>...</td>\n",
       "      <td>...</td>\n",
       "      <td>...</td>\n",
       "      <td>...</td>\n",
       "      <td>...</td>\n",
       "      <td>...</td>\n",
       "      <td>...</td>\n",
       "      <td>...</td>\n",
       "      <td>...</td>\n",
       "      <td>...</td>\n",
       "      <td>...</td>\n",
       "      <td>...</td>\n",
       "    </tr>\n",
       "    <tr>\n",
       "      <th>95</th>\n",
       "      <td>0.000000</td>\n",
       "      <td>16.666667</td>\n",
       "      <td>-1.111111e+01</td>\n",
       "      <td>0.000000</td>\n",
       "      <td>-13.333333</td>\n",
       "      <td>-1.111111e+01</td>\n",
       "      <td>1.904762e+01</td>\n",
       "      <td>-8.333333</td>\n",
       "      <td>7.407407</td>\n",
       "      <td>-16.666667</td>\n",
       "      <td>6.060606e+00</td>\n",
       "      <td>2.777778e+00</td>\n",
       "      <td>0.000000</td>\n",
       "      <td>-1.184238e-14</td>\n",
       "      <td>2.222222</td>\n",
       "      <td>-2.083333</td>\n",
       "      <td>1.960784e+00</td>\n",
       "      <td>1.851852</td>\n",
       "      <td>1.754386</td>\n",
       "      <td>0.0</td>\n",
       "    </tr>\n",
       "    <tr>\n",
       "      <th>96</th>\n",
       "      <td>0.000000</td>\n",
       "      <td>-50.000000</td>\n",
       "      <td>1.111111e+01</td>\n",
       "      <td>-16.666667</td>\n",
       "      <td>13.333333</td>\n",
       "      <td>-1.666667e+01</td>\n",
       "      <td>1.904762e+01</td>\n",
       "      <td>8.333333</td>\n",
       "      <td>0.000000</td>\n",
       "      <td>-20.000000</td>\n",
       "      <td>6.060606e+00</td>\n",
       "      <td>1.111111e+01</td>\n",
       "      <td>-5.128205</td>\n",
       "      <td>-2.380952e+00</td>\n",
       "      <td>0.000000</td>\n",
       "      <td>6.250000</td>\n",
       "      <td>-1.960784e+00</td>\n",
       "      <td>5.555556</td>\n",
       "      <td>-5.263158</td>\n",
       "      <td>0.0</td>\n",
       "    </tr>\n",
       "    <tr>\n",
       "      <th>97</th>\n",
       "      <td>0.000000</td>\n",
       "      <td>50.000000</td>\n",
       "      <td>2.222222e+01</td>\n",
       "      <td>-8.333333</td>\n",
       "      <td>20.000000</td>\n",
       "      <td>-5.555556e+00</td>\n",
       "      <td>-1.184238e-14</td>\n",
       "      <td>-12.500000</td>\n",
       "      <td>18.518519</td>\n",
       "      <td>-3.333333</td>\n",
       "      <td>2.424242e+01</td>\n",
       "      <td>2.777778e+00</td>\n",
       "      <td>-2.564103</td>\n",
       "      <td>7.142857e+00</td>\n",
       "      <td>2.222222</td>\n",
       "      <td>2.083333</td>\n",
       "      <td>-1.184238e-14</td>\n",
       "      <td>3.703704</td>\n",
       "      <td>3.508772</td>\n",
       "      <td>0.0</td>\n",
       "    </tr>\n",
       "    <tr>\n",
       "      <th>98</th>\n",
       "      <td>-66.666667</td>\n",
       "      <td>-16.666667</td>\n",
       "      <td>2.222222e+01</td>\n",
       "      <td>8.333333</td>\n",
       "      <td>6.666667</td>\n",
       "      <td>-1.184238e-14</td>\n",
       "      <td>-1.904762e+01</td>\n",
       "      <td>20.833333</td>\n",
       "      <td>-11.111111</td>\n",
       "      <td>0.000000</td>\n",
       "      <td>-1.184238e-14</td>\n",
       "      <td>-5.555556e+00</td>\n",
       "      <td>-7.692308</td>\n",
       "      <td>-1.184238e-14</td>\n",
       "      <td>13.333333</td>\n",
       "      <td>8.333333</td>\n",
       "      <td>-3.921569e+00</td>\n",
       "      <td>1.851852</td>\n",
       "      <td>1.754386</td>\n",
       "      <td>0.0</td>\n",
       "    </tr>\n",
       "    <tr>\n",
       "      <th>99</th>\n",
       "      <td>-33.333333</td>\n",
       "      <td>50.000000</td>\n",
       "      <td>1.111111e+01</td>\n",
       "      <td>0.000000</td>\n",
       "      <td>20.000000</td>\n",
       "      <td>1.666667e+01</td>\n",
       "      <td>-1.184238e-14</td>\n",
       "      <td>-4.166667</td>\n",
       "      <td>-3.703704</td>\n",
       "      <td>3.333333</td>\n",
       "      <td>1.515152e+01</td>\n",
       "      <td>-1.184238e-14</td>\n",
       "      <td>-2.564103</td>\n",
       "      <td>9.523810e+00</td>\n",
       "      <td>6.666667</td>\n",
       "      <td>0.000000</td>\n",
       "      <td>-1.960784e+00</td>\n",
       "      <td>-5.555556</td>\n",
       "      <td>1.754386</td>\n",
       "      <td>0.0</td>\n",
       "    </tr>\n",
       "  </tbody>\n",
       "</table>\n",
       "<p>100 rows × 20 columns</p>\n",
       "</div>"
      ],
      "text/plain": [
       "         0.05        0.1          0.15        0.2       0.25           0.3  \\\n",
       "0   33.333333 -50.000000  2.222222e+01   8.333333   0.000000 -1.111111e+01   \n",
       "1   66.666667  16.666667  1.111111e+01   8.333333   6.666667  5.555556e+00   \n",
       "2   66.666667  16.666667 -1.111111e+01   8.333333 -26.666667  1.111111e+01   \n",
       "3    0.000000   0.000000  1.111111e+01   0.000000 -13.333333 -1.184238e-14   \n",
       "4    0.000000 -16.666667 -1.184238e-14   0.000000  20.000000 -5.555556e+00   \n",
       "..        ...        ...           ...        ...        ...           ...   \n",
       "95   0.000000  16.666667 -1.111111e+01   0.000000 -13.333333 -1.111111e+01   \n",
       "96   0.000000 -50.000000  1.111111e+01 -16.666667  13.333333 -1.666667e+01   \n",
       "97   0.000000  50.000000  2.222222e+01  -8.333333  20.000000 -5.555556e+00   \n",
       "98 -66.666667 -16.666667  2.222222e+01   8.333333   6.666667 -1.184238e-14   \n",
       "99 -33.333333  50.000000  1.111111e+01   0.000000  20.000000  1.666667e+01   \n",
       "\n",
       "            0.35        0.4       0.45        0.5          0.55           0.6  \\\n",
       "0   4.761905e+00   4.166667   3.703704 -16.666667  3.030303e+00  1.111111e+01   \n",
       "1  -1.184238e-14  -8.333333   0.000000   3.333333 -1.184238e-14  5.555556e+00   \n",
       "2  -4.761905e+00 -16.666667  14.814815  10.000000  3.030303e+00 -1.111111e+01   \n",
       "3   4.761905e+00  -4.166667   7.407407 -10.000000  9.090909e+00  5.555556e+00   \n",
       "4   9.523810e+00 -12.500000   7.407407 -13.333333  6.060606e+00  1.111111e+01   \n",
       "..           ...        ...        ...        ...           ...           ...   \n",
       "95  1.904762e+01  -8.333333   7.407407 -16.666667  6.060606e+00  2.777778e+00   \n",
       "96  1.904762e+01   8.333333   0.000000 -20.000000  6.060606e+00  1.111111e+01   \n",
       "97 -1.184238e-14 -12.500000  18.518519  -3.333333  2.424242e+01  2.777778e+00   \n",
       "98 -1.904762e+01  20.833333 -11.111111   0.000000 -1.184238e-14 -5.555556e+00   \n",
       "99 -1.184238e-14  -4.166667  -3.703704   3.333333  1.515152e+01 -1.184238e-14   \n",
       "\n",
       "         0.65           0.7       0.75       0.8          0.85       0.9  \\\n",
       "0   -5.128205  7.142857e+00  -6.666667  4.166667 -1.960784e+00  0.000000   \n",
       "1    7.692308  4.761905e+00  -4.444444 -6.250000 -3.921569e+00  1.851852   \n",
       "2    5.128205  1.190476e+01  -6.666667 -4.166667  3.921569e+00  1.851852   \n",
       "3    2.564103  9.523810e+00  -2.222222  2.083333  7.843137e+00  1.851852   \n",
       "4  -15.384615 -2.380952e+00  -4.444444 -4.166667 -1.960784e+00  0.000000   \n",
       "..        ...           ...        ...       ...           ...       ...   \n",
       "95   0.000000 -1.184238e-14   2.222222 -2.083333  1.960784e+00  1.851852   \n",
       "96  -5.128205 -2.380952e+00   0.000000  6.250000 -1.960784e+00  5.555556   \n",
       "97  -2.564103  7.142857e+00   2.222222  2.083333 -1.184238e-14  3.703704   \n",
       "98  -7.692308 -1.184238e-14  13.333333  8.333333 -3.921569e+00  1.851852   \n",
       "99  -2.564103  9.523810e+00   6.666667  0.000000 -1.960784e+00 -5.555556   \n",
       "\n",
       "        0.95  1.0  \n",
       "0  -1.754386  0.0  \n",
       "1  -1.754386  0.0  \n",
       "2  -1.754386  0.0  \n",
       "3  -3.508772  0.0  \n",
       "4  -1.754386  0.0  \n",
       "..       ...  ...  \n",
       "95  1.754386  0.0  \n",
       "96 -5.263158  0.0  \n",
       "97  3.508772  0.0  \n",
       "98  1.754386  0.0  \n",
       "99  1.754386  0.0  \n",
       "\n",
       "[100 rows x 20 columns]"
      ]
     },
     "execution_count": 49,
     "metadata": {},
     "output_type": "execute_result"
    }
   ],
   "source": [
    "error_with_std_plastic"
   ]
  },
  {
   "cell_type": "code",
   "execution_count": 56,
   "metadata": {},
   "outputs": [],
   "source": [
    "sep12_Ang_table=table[(table['Date']=='12-Sep-19') & (table['Location']=='Angus CSO')]\n",
    "sep12_Ang_table.reset_index(inplace=True)\n",
    "jul10_Ang_table=table[(table['Date']=='10-Jul-19') & (table['Location']=='Angus CSO')]\n",
    "jul10_Ang_table.reset_index(inplace=True)\n",
    "jul10_Eng_table=table[(table['Date']=='10-Jul-19') & (table['Location']=='English Bay')]\n",
    "jul10_Eng_table.reset_index(inplace=True)\n",
    "plasa=[]\n",
    "celsa=[]\n",
    "for i in range(1,21):\n",
    "    random_table=random_plastic(fraction=0.05*i,ran=100,data=sep12_Ang_table,totnum=len(sep12_Ang_table))\n",
    "    (error_total,random_counts)=err_plastic(fraction=0.05*i,ran=100,data=sep12_Ang_table)\n",
    "    abs_error_plastic=abs(error_total['error_pl']).mean()\n",
    "    abs_error_cellulosic=abs(error_total['error_ce']).mean()\n",
    "    plasa.append(abs_error_plastic)\n",
    "    celsa.append(abs_error_cellulosic)\n",
    "plaja=[]\n",
    "celja=[]\n",
    "for i in range(1,21):\n",
    "    random_table=random_plastic(fraction=0.05*i,ran=100,data=jul10_Ang_table,totnum=len(jul10_Ang_table))\n",
    "    (error_total,random_counts)=err_plastic(fraction=0.05*i,ran=100,data=jul10_Ang_table)\n",
    "    abs_error_plastic=abs(error_total['error_pl']).mean()\n",
    "    abs_error_cellulosic=abs(error_total['error_ce']).mean()\n",
    "    plaja.append(abs_error_plastic)\n",
    "    celja.append(abs_error_cellulosic)\n",
    "plaje=[]\n",
    "celje=[]\n",
    "for i in range(1,21):\n",
    "    random_table=random_plastic(fraction=0.05*i,ran=100,data=jul10_Eng_table,totnum=len(jul10_Eng_table))\n",
    "    (error_total,random_counts)=err_plastic(fraction=0.05*i,ran=100,data=jul10_Eng_table)\n",
    "    abs_error_plastic=abs(error_total['error_pl']).mean()\n",
    "    abs_error_cellulosic=abs(error_total['error_ce']).mean()\n",
    "    plaje.append(abs_error_plastic)\n",
    "    celje.append(abs_error_cellulosic)"
   ]
  },
  {
   "cell_type": "code",
   "execution_count": 57,
   "metadata": {},
   "outputs": [
    {
     "data": {
      "text/plain": [
       "([0, 1, 2, 3, 4, 5, 6, 7, 8, 9, 10, 11, 12, 13, 14, 15, 16, 17, 18, 19],\n",
       " <a list of 20 Text xticklabel objects>)"
      ]
     },
     "execution_count": 57,
     "metadata": {},
     "output_type": "execute_result"
    },
    {
     "data": {
      "image/png": "[encoded data removed]",
      "text/plain": [
       "<Figure size 432x288 with 1 Axes>"
      ]
     },
     "metadata": {
      "needs_background": "light"
     },
     "output_type": "display_data"
    }
   ],
   "source": [
    "fraction_index=['0.05','0.1','0.15','0.2','0.25','0.3','0.35','0.4','0.45','0.5','0.55','0.6','0.65','0.7','0.75','0.8','0.85','0.9','0.95','1.0']    \n",
    "sns.scatterplot(y=plasa,x=fraction_index)\n",
    "sns.scatterplot(y=plaja,x=fraction_index)\n",
    "sns.scatterplot(y=plaje,x=fraction_index)\n",
    "sns.scatterplot(y=pla,x=fraction_index)\n",
    "plt.xlabel('fraction of filter FT-IR')\n",
    "plt.ylabel('Error (Plastic)')\n",
    "plt.legend(['Sep-12-Angus: with 61 particles','Jul-10-Angus: with 26 particles','Jul-10-English: with 34 particles','Total with 121 particles'])\n",
    "plt.xticks(rotation=90)"
   ]
  },
  {
   "cell_type": "code",
   "execution_count": 62,
   "metadata": {},
   "outputs": [
    {
     "data": {
      "text/plain": [
       "[53.26315789473677,\n",
       " 37.578947368421076,\n",
       " 31.508771929824505,\n",
       " 22.05263157894738,\n",
       " 23.263157894736846,\n",
       " 18.210526315789494,\n",
       " 15.984962406015038,\n",
       " 13.89473684210527,\n",
       " 14.888888888888882,\n",
       " 12.315789473684225,\n",
       " 10.708133971291875,\n",
       " 9.140350877192974,\n",
       " 8.688259109311748,\n",
       " 7.278195488721807,\n",
       " 6.10526315789474,\n",
       " 6.052631578947367,\n",
       " 4.507739938080495,\n",
       " 3.777777777777776,\n",
       " 2.0221606648199533,\n",
       " 0.0]"
      ]
     },
     "execution_count": 62,
     "metadata": {},
     "output_type": "execute_result"
    }
   ],
   "source": [
    "plaje"
   ]
  },
  {
   "cell_type": "code",
   "execution_count": null,
   "metadata": {},
   "outputs": [],
   "source": [
    "# 15% error \n",
    "\n",
    "# TOTAL with 161 particle : 0.15    NUM : 0.15*161 = 24.15\n",
    "# sep12_Ang with 61 particle : 0.3  NUM : 0.3*61   = 18.3\n",
    "# jul10_Eng with 34 particle : 0.4  NUM : 0.4*34   = 13.6\n",
    "# jul10_Ang with 26 particle : 0.6  NUM : 0.6*26.  = 15.6\n"
   ]
  },
  {
   "cell_type": "code",
   "execution_count": 93,
   "metadata": {},
   "outputs": [],
   "source": [
    "table_smp= table[table['SMP?']== 'YES']\n",
    "table_smp.reset_index(inplace=True)\n",
    "table_test= table.sample(n = 74) \n",
    "table_test.reset_index(inplace=True)\n",
    "plasa=[]\n",
    "celsa=[]\n",
    "for i in range(1,21):\n",
    "    random_table=random_plastic(fraction=0.05*i,ran=100,data=table_test,totnum=74)\n",
    "    (error_total,random_counts)=err_plastic(fraction=0.05*i,ran=100,data=table_test)\n",
    "    abs_error_plastic=abs(error_total['error_pl']).mean()\n",
    "    abs_error_cellulosic=abs(error_total['error_ce']).mean()\n",
    "    plasa.append(abs_error_plastic)\n",
    "    celsa.append(abs_error_cellulosic)\n",
    "plaja=[]\n",
    "celja=[]\n",
    "for i in range(1,21):\n",
    "    random_table=random_plastic(fraction=0.05*i,ran=100,data=table_smp,totnum=74)\n",
    "    (error_total,random_counts)=err_plastic(fraction=0.05*i,ran=100,data=table_smp)\n",
    "    abs_error_plastic=abs(error_total['error_pl']).mean()\n",
    "    abs_error_cellulosic=abs(error_total['error_ce']).mean()\n",
    "    plaja.append(abs_error_plastic)\n",
    "    celja.append(abs_error_cellulosic)"
   ]
  },
  {
   "cell_type": "code",
   "execution_count": 98,
   "metadata": {},
   "outputs": [
    {
     "data": {
      "text/plain": [
       "([0, 1, 2, 3, 4, 5, 6, 7, 8, 9, 10, 11, 12, 13, 14, 15, 16, 17, 18, 19],\n",
       " <a list of 20 Text xticklabel objects>)"
      ]
     },
     "execution_count": 98,
     "metadata": {},
     "output_type": "execute_result"
    },
    {
     "data": {
      "image/png": "[encoded data removed]",
      "text/plain": [
       "<Figure size 432x288 with 1 Axes>"
      ]
     },
     "metadata": {
      "needs_background": "light"
     },
     "output_type": "display_data"
    }
   ],
   "source": [
    "fraction_index=['0.05','0.1','0.15','0.2','0.25','0.3','0.35','0.4','0.45','0.5','0.55','0.6','0.65','0.7','0.75','0.8','0.85','0.9','0.95','1.0']    \n",
    "sns.scatterplot(y=plasa,x=fraction_index)\n",
    "sns.scatterplot(y=plaja,x=fraction_index)\n",
    "plt.xlabel('fraction of filter FT-IR')\n",
    "plt.ylabel('Error (Plastic)')\n",
    "plt.legend(['All Particle in samplesize of 74','SMPs in samplesize of 74'])\n",
    "plt.xticks(rotation=90)"
   ]
  },
  {
   "cell_type": "code",
   "execution_count": null,
   "metadata": {},
   "outputs": [],
   "source": []
  }
 ],
 "metadata": {
  "kernelspec": {
   "display_name": "Python 3",
   "language": "python",
   "name": "python3"
  },
  "language_info": {
   "codemirror_mode": {
    "name": "ipython",
    "version": 3
   },
   "file_extension": ".py",
   "mimetype": "text/x-python",
   "name": "python",
   "nbconvert_exporter": "python",
   "pygments_lexer": "ipython3",
   "version": "3.7.6"
  }
 },
 "nbformat": 4,
 "nbformat_minor": 4
}
